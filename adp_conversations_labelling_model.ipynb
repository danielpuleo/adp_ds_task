{
 "cells": [
  {
   "cell_type": "code",
   "execution_count": 1,
   "metadata": {},
   "outputs": [],
   "source": [
    "%%capture\n",
    "import pandas as pd\n",
    "import numpy as np\n",
    "from dp_nlp import *\n",
    "from dp_validation import *\n",
    "from sklearn.model_selection import train_test_split\n",
    "from sklearn.ensemble import RandomForestClassifier\n",
    "from sklearn.svm import SVC\n",
    "from xgboost import XGBClassifier\n",
    "import matplotlib.pyplot as plt\n",
    "from sklearn.metrics import classification_report, accuracy_score"
   ]
  },
  {
   "cell_type": "markdown",
   "metadata": {},
   "source": [
    "### Reading and joining conversation data"
   ]
  },
  {
   "cell_type": "code",
   "execution_count": 2,
   "metadata": {},
   "outputs": [],
   "source": [
    "conversations = pd.read_csv('available_conversations.csv')\n",
    "topics = pd.read_csv('available_topics.csv')\n",
    "conversations_with_topics = pd.merge(conversations,topics,on='topic_id')"
   ]
  },
  {
   "cell_type": "code",
   "execution_count": 3,
   "metadata": {},
   "outputs": [
    {
     "data": {
      "text/html": [
       "<div>\n",
       "<style scoped>\n",
       "    .dataframe tbody tr th:only-of-type {\n",
       "        vertical-align: middle;\n",
       "    }\n",
       "\n",
       "    .dataframe tbody tr th {\n",
       "        vertical-align: top;\n",
       "    }\n",
       "\n",
       "    .dataframe thead th {\n",
       "        text-align: right;\n",
       "    }\n",
       "</style>\n",
       "<table border=\"1\" class=\"dataframe\">\n",
       "  <thead>\n",
       "    <tr style=\"text-align: right;\">\n",
       "      <th></th>\n",
       "      <th>message</th>\n",
       "      <th>topic_id</th>\n",
       "      <th>topic_name</th>\n",
       "      <th>topic_description</th>\n",
       "    </tr>\n",
       "  </thead>\n",
       "  <tbody>\n",
       "    <tr>\n",
       "      <th>0</th>\n",
       "      <td>What qualities are you looking for in a candid...</td>\n",
       "      <td>5</td>\n",
       "      <td>talent_acquisition</td>\n",
       "      <td>Strategies and practices for attracting, recru...</td>\n",
       "    </tr>\n",
       "    <tr>\n",
       "      <th>1</th>\n",
       "      <td>Are there any trainings on virtual team commun...</td>\n",
       "      <td>1</td>\n",
       "      <td>employee_training</td>\n",
       "      <td>Educational programs and development initiativ...</td>\n",
       "    </tr>\n",
       "    <tr>\n",
       "      <th>2</th>\n",
       "      <td>What are the options for retirement plans for ...</td>\n",
       "      <td>0</td>\n",
       "      <td>employee_benefits</td>\n",
       "      <td>Programs and perks offered to employees beyond...</td>\n",
       "    </tr>\n",
       "    <tr>\n",
       "      <th>3</th>\n",
       "      <td>When will I hear back about the outcome of my ...</td>\n",
       "      <td>5</td>\n",
       "      <td>talent_acquisition</td>\n",
       "      <td>Strategies and practices for attracting, recru...</td>\n",
       "    </tr>\n",
       "    <tr>\n",
       "      <th>4</th>\n",
       "      <td>Is there a subsidy available for public transp...</td>\n",
       "      <td>0</td>\n",
       "      <td>employee_benefits</td>\n",
       "      <td>Programs and perks offered to employees beyond...</td>\n",
       "    </tr>\n",
       "    <tr>\n",
       "      <th>...</th>\n",
       "      <td>...</td>\n",
       "      <td>...</td>\n",
       "      <td>...</td>\n",
       "      <td>...</td>\n",
       "    </tr>\n",
       "    <tr>\n",
       "      <th>2495</th>\n",
       "      <td>Can I update my emergency contact information ...</td>\n",
       "      <td>2</td>\n",
       "      <td>other</td>\n",
       "      <td>Miscellaneous topics that do not fit into spec...</td>\n",
       "    </tr>\n",
       "    <tr>\n",
       "      <th>2496</th>\n",
       "      <td>Can I make changes to my benefits selections a...</td>\n",
       "      <td>0</td>\n",
       "      <td>employee_benefits</td>\n",
       "      <td>Programs and perks offered to employees beyond...</td>\n",
       "    </tr>\n",
       "    <tr>\n",
       "      <th>2497</th>\n",
       "      <td>Can I request a performance improvement plan?</td>\n",
       "      <td>4</td>\n",
       "      <td>performance_management</td>\n",
       "      <td>Processes and systems used to assess and impro...</td>\n",
       "    </tr>\n",
       "    <tr>\n",
       "      <th>2498</th>\n",
       "      <td>I have not received my bonus payment. Can you ...</td>\n",
       "      <td>3</td>\n",
       "      <td>payroll</td>\n",
       "      <td>The process of managing employee salaries, wag...</td>\n",
       "    </tr>\n",
       "    <tr>\n",
       "      <th>2499</th>\n",
       "      <td>Can you provide more information about the int...</td>\n",
       "      <td>5</td>\n",
       "      <td>talent_acquisition</td>\n",
       "      <td>Strategies and practices for attracting, recru...</td>\n",
       "    </tr>\n",
       "  </tbody>\n",
       "</table>\n",
       "<p>2500 rows × 4 columns</p>\n",
       "</div>"
      ],
      "text/plain": [
       "                                                message  topic_id  \\\n",
       "0     What qualities are you looking for in a candid...         5   \n",
       "1     Are there any trainings on virtual team commun...         1   \n",
       "2     What are the options for retirement plans for ...         0   \n",
       "3     When will I hear back about the outcome of my ...         5   \n",
       "4     Is there a subsidy available for public transp...         0   \n",
       "...                                                 ...       ...   \n",
       "2495  Can I update my emergency contact information ...         2   \n",
       "2496  Can I make changes to my benefits selections a...         0   \n",
       "2497      Can I request a performance improvement plan?         4   \n",
       "2498  I have not received my bonus payment. Can you ...         3   \n",
       "2499  Can you provide more information about the int...         5   \n",
       "\n",
       "                  topic_name  \\\n",
       "0         talent_acquisition   \n",
       "1          employee_training   \n",
       "2          employee_benefits   \n",
       "3         talent_acquisition   \n",
       "4          employee_benefits   \n",
       "...                      ...   \n",
       "2495                   other   \n",
       "2496       employee_benefits   \n",
       "2497  performance_management   \n",
       "2498                 payroll   \n",
       "2499      talent_acquisition   \n",
       "\n",
       "                                      topic_description  \n",
       "0     Strategies and practices for attracting, recru...  \n",
       "1     Educational programs and development initiativ...  \n",
       "2     Programs and perks offered to employees beyond...  \n",
       "3     Strategies and practices for attracting, recru...  \n",
       "4     Programs and perks offered to employees beyond...  \n",
       "...                                                 ...  \n",
       "2495  Miscellaneous topics that do not fit into spec...  \n",
       "2496  Programs and perks offered to employees beyond...  \n",
       "2497  Processes and systems used to assess and impro...  \n",
       "2498  The process of managing employee salaries, wag...  \n",
       "2499  Strategies and practices for attracting, recru...  \n",
       "\n",
       "[2500 rows x 4 columns]"
      ]
     },
     "execution_count": 3,
     "metadata": {},
     "output_type": "execute_result"
    }
   ],
   "source": [
    "conversations_with_topics"
   ]
  },
  {
   "cell_type": "code",
   "execution_count": 4,
   "metadata": {},
   "outputs": [
    {
     "data": {
      "text/plain": [
       "Text(0.5, 1.0, 'Distribution of Topic Names')"
      ]
     },
     "execution_count": 4,
     "metadata": {},
     "output_type": "execute_result"
    },
    {
     "data": {
      "image/png": "[encoded data removed]",
      "text/plain": [
       "<Figure size 640x480 with 1 Axes>"
      ]
     },
     "metadata": {},
     "output_type": "display_data"
    }
   ],
   "source": [
    "conversations_with_topics.groupby('topic_name')['topic_id'].count().plot(kind='bar')\n",
    "plt.title('Distribution of Topic Names')"
   ]
  },
  {
   "cell_type": "markdown",
   "metadata": {},
   "source": [
    "Data seems to be similary distributed across all topics, keeping an eye on `payroll` and `other`"
   ]
  },
  {
   "cell_type": "markdown",
   "metadata": {},
   "source": [
    "## Data Validation\n",
    "Text cleaning removing any stop words or punctuations"
   ]
  },
  {
   "cell_type": "code",
   "execution_count": 3,
   "metadata": {},
   "outputs": [
    {
     "data": {
      "text/html": [
       "<div>\n",
       "<style scoped>\n",
       "    .dataframe tbody tr th:only-of-type {\n",
       "        vertical-align: middle;\n",
       "    }\n",
       "\n",
       "    .dataframe tbody tr th {\n",
       "        vertical-align: top;\n",
       "    }\n",
       "\n",
       "    .dataframe thead th {\n",
       "        text-align: right;\n",
       "    }\n",
       "</style>\n",
       "<table border=\"1\" class=\"dataframe\">\n",
       "  <thead>\n",
       "    <tr style=\"text-align: right;\">\n",
       "      <th></th>\n",
       "      <th>message</th>\n",
       "      <th>topic_id</th>\n",
       "      <th>topic_name</th>\n",
       "      <th>topic_description</th>\n",
       "      <th>cleaned_message</th>\n",
       "      <th>cleaned_topic_description</th>\n",
       "    </tr>\n",
       "  </thead>\n",
       "  <tbody>\n",
       "    <tr>\n",
       "      <th>0</th>\n",
       "      <td>What qualities are you looking for in a candid...</td>\n",
       "      <td>5</td>\n",
       "      <td>talent_acquisition</td>\n",
       "      <td>Strategies and practices for attracting, recru...</td>\n",
       "      <td>quality looking candidate</td>\n",
       "      <td>strategy practice attracting recruiting hiring...</td>\n",
       "    </tr>\n",
       "    <tr>\n",
       "      <th>1</th>\n",
       "      <td>Are there any trainings on virtual team commun...</td>\n",
       "      <td>1</td>\n",
       "      <td>employee_training</td>\n",
       "      <td>Educational programs and development initiativ...</td>\n",
       "      <td>training virtual team communication conflict r...</td>\n",
       "      <td>educational program development initiative enh...</td>\n",
       "    </tr>\n",
       "    <tr>\n",
       "      <th>2</th>\n",
       "      <td>What are the options for retirement plans for ...</td>\n",
       "      <td>0</td>\n",
       "      <td>employee_benefits</td>\n",
       "      <td>Programs and perks offered to employees beyond...</td>\n",
       "      <td>option retirement plan employee unique work sc...</td>\n",
       "      <td>program perk offered employee beyond salary he...</td>\n",
       "    </tr>\n",
       "    <tr>\n",
       "      <th>3</th>\n",
       "      <td>When will I hear back about the outcome of my ...</td>\n",
       "      <td>5</td>\n",
       "      <td>talent_acquisition</td>\n",
       "      <td>Strategies and practices for attracting, recru...</td>\n",
       "      <td>hear back outcome job application</td>\n",
       "      <td>strategy practice attracting recruiting hiring...</td>\n",
       "    </tr>\n",
       "    <tr>\n",
       "      <th>4</th>\n",
       "      <td>Is there a subsidy available for public transp...</td>\n",
       "      <td>0</td>\n",
       "      <td>employee_benefits</td>\n",
       "      <td>Programs and perks offered to employees beyond...</td>\n",
       "      <td>subsidy available public transportation</td>\n",
       "      <td>program perk offered employee beyond salary he...</td>\n",
       "    </tr>\n",
       "    <tr>\n",
       "      <th>...</th>\n",
       "      <td>...</td>\n",
       "      <td>...</td>\n",
       "      <td>...</td>\n",
       "      <td>...</td>\n",
       "      <td>...</td>\n",
       "      <td>...</td>\n",
       "    </tr>\n",
       "    <tr>\n",
       "      <th>2495</th>\n",
       "      <td>Can I update my emergency contact information ...</td>\n",
       "      <td>2</td>\n",
       "      <td>other</td>\n",
       "      <td>Miscellaneous topics that do not fit into spec...</td>\n",
       "      <td>update emergency contact information hr mobile...</td>\n",
       "      <td>miscellaneous topic fit specific predefined ca...</td>\n",
       "    </tr>\n",
       "    <tr>\n",
       "      <th>2496</th>\n",
       "      <td>Can I make changes to my benefits selections a...</td>\n",
       "      <td>0</td>\n",
       "      <td>employee_benefits</td>\n",
       "      <td>Programs and perks offered to employees beyond...</td>\n",
       "      <td>make change benefit selection submit necessary...</td>\n",
       "      <td>program perk offered employee beyond salary he...</td>\n",
       "    </tr>\n",
       "    <tr>\n",
       "      <th>2497</th>\n",
       "      <td>Can I request a performance improvement plan?</td>\n",
       "      <td>4</td>\n",
       "      <td>performance_management</td>\n",
       "      <td>Processes and systems used to assess and impro...</td>\n",
       "      <td>request performance improvement plan</td>\n",
       "      <td>process system used ass improve employee perfo...</td>\n",
       "    </tr>\n",
       "    <tr>\n",
       "      <th>2498</th>\n",
       "      <td>I have not received my bonus payment. Can you ...</td>\n",
       "      <td>3</td>\n",
       "      <td>payroll</td>\n",
       "      <td>The process of managing employee salaries, wag...</td>\n",
       "      <td>received bonus payment check status</td>\n",
       "      <td>process managing employee salary wage bonus de...</td>\n",
       "    </tr>\n",
       "    <tr>\n",
       "      <th>2499</th>\n",
       "      <td>Can you provide more information about the int...</td>\n",
       "      <td>5</td>\n",
       "      <td>talent_acquisition</td>\n",
       "      <td>Strategies and practices for attracting, recru...</td>\n",
       "      <td>provide information interview process</td>\n",
       "      <td>strategy practice attracting recruiting hiring...</td>\n",
       "    </tr>\n",
       "  </tbody>\n",
       "</table>\n",
       "<p>2500 rows × 6 columns</p>\n",
       "</div>"
      ],
      "text/plain": [
       "                                                message  topic_id  \\\n",
       "0     What qualities are you looking for in a candid...         5   \n",
       "1     Are there any trainings on virtual team commun...         1   \n",
       "2     What are the options for retirement plans for ...         0   \n",
       "3     When will I hear back about the outcome of my ...         5   \n",
       "4     Is there a subsidy available for public transp...         0   \n",
       "...                                                 ...       ...   \n",
       "2495  Can I update my emergency contact information ...         2   \n",
       "2496  Can I make changes to my benefits selections a...         0   \n",
       "2497      Can I request a performance improvement plan?         4   \n",
       "2498  I have not received my bonus payment. Can you ...         3   \n",
       "2499  Can you provide more information about the int...         5   \n",
       "\n",
       "                  topic_name  \\\n",
       "0         talent_acquisition   \n",
       "1          employee_training   \n",
       "2          employee_benefits   \n",
       "3         talent_acquisition   \n",
       "4          employee_benefits   \n",
       "...                      ...   \n",
       "2495                   other   \n",
       "2496       employee_benefits   \n",
       "2497  performance_management   \n",
       "2498                 payroll   \n",
       "2499      talent_acquisition   \n",
       "\n",
       "                                      topic_description  \\\n",
       "0     Strategies and practices for attracting, recru...   \n",
       "1     Educational programs and development initiativ...   \n",
       "2     Programs and perks offered to employees beyond...   \n",
       "3     Strategies and practices for attracting, recru...   \n",
       "4     Programs and perks offered to employees beyond...   \n",
       "...                                                 ...   \n",
       "2495  Miscellaneous topics that do not fit into spec...   \n",
       "2496  Programs and perks offered to employees beyond...   \n",
       "2497  Processes and systems used to assess and impro...   \n",
       "2498  The process of managing employee salaries, wag...   \n",
       "2499  Strategies and practices for attracting, recru...   \n",
       "\n",
       "                                        cleaned_message  \\\n",
       "0                             quality looking candidate   \n",
       "1     training virtual team communication conflict r...   \n",
       "2     option retirement plan employee unique work sc...   \n",
       "3                     hear back outcome job application   \n",
       "4               subsidy available public transportation   \n",
       "...                                                 ...   \n",
       "2495  update emergency contact information hr mobile...   \n",
       "2496  make change benefit selection submit necessary...   \n",
       "2497               request performance improvement plan   \n",
       "2498                received bonus payment check status   \n",
       "2499              provide information interview process   \n",
       "\n",
       "                              cleaned_topic_description  \n",
       "0     strategy practice attracting recruiting hiring...  \n",
       "1     educational program development initiative enh...  \n",
       "2     program perk offered employee beyond salary he...  \n",
       "3     strategy practice attracting recruiting hiring...  \n",
       "4     program perk offered employee beyond salary he...  \n",
       "...                                                 ...  \n",
       "2495  miscellaneous topic fit specific predefined ca...  \n",
       "2496  program perk offered employee beyond salary he...  \n",
       "2497  process system used ass improve employee perfo...  \n",
       "2498  process managing employee salary wage bonus de...  \n",
       "2499  strategy practice attracting recruiting hiring...  \n",
       "\n",
       "[2500 rows x 6 columns]"
      ]
     },
     "execution_count": 3,
     "metadata": {},
     "output_type": "execute_result"
    }
   ],
   "source": [
    "conversations_with_topics['cleaned_message'] = conversations_with_topics['message'].apply(text_cleaning)\n",
    "conversations_with_topics['cleaned_topic_description'] = conversations_with_topics['topic_description'].apply(text_cleaning)\n",
    "\n",
    "conversations_with_topics"
   ]
  },
  {
   "cell_type": "markdown",
   "metadata": {},
   "source": [
    "### Vectorization for cosine similarity"
   ]
  },
  {
   "cell_type": "code",
   "execution_count": 6,
   "metadata": {},
   "outputs": [],
   "source": [
    "conversations_with_topics['message_embedding'] = conversations_with_topics['cleaned_message'].apply(get_bert_embeddings_similarity)\n",
    "conversations_with_topics['topic_description_embedding'] = conversations_with_topics['cleaned_topic_description'].apply(get_bert_embeddings_similarity)"
   ]
  },
  {
   "cell_type": "code",
   "execution_count": 7,
   "metadata": {},
   "outputs": [],
   "source": [
    "message_embeddings = np.vstack(conversations_with_topics['message_embedding'].values)\n",
    "topic_description_embeddings = np.vstack(conversations_with_topics['topic_description_embedding'].values)"
   ]
  },
  {
   "cell_type": "markdown",
   "metadata": {},
   "source": [
    "### Cosine similarity\n",
    "\n",
    "In order to measure the quality of data, we want to calculate cosine similarity between the `message` and the `topic_description`. This way we can identify any red flags created by miss labelling (Human error)"
   ]
  },
  {
   "cell_type": "code",
   "execution_count": 8,
   "metadata": {},
   "outputs": [],
   "source": [
    "from sklearn.metrics.pairwise import cosine_similarity\n",
    "\n",
    "similarity_scores = cosine_similarity(message_embeddings, topic_description_embeddings)\n",
    "conversations_with_topics['similarity_score'] = [similarity_scores[i, i] for i in range(len(conversations_with_topics))]"
   ]
  },
  {
   "cell_type": "code",
   "execution_count": 9,
   "metadata": {},
   "outputs": [
    {
     "data": {
      "image/png": "[encoded data removed]",
      "text/plain": [
       "<Figure size 640x480 with 1 Axes>"
      ]
     },
     "metadata": {},
     "output_type": "display_data"
    }
   ],
   "source": [
    "# Plot the distribution of similarity scores\n",
    "plt.hist(conversations_with_topics['similarity_score'], bins=50, alpha=0.75)\n",
    "plt.title('Distribution of Similarity Scores')\n",
    "plt.xlabel('Similarity Score')\n",
    "plt.ylabel('Frequency')\n",
    "plt.show()"
   ]
  },
  {
   "cell_type": "markdown",
   "metadata": {},
   "source": []
  },
  {
   "cell_type": "code",
   "execution_count": 10,
   "metadata": {},
   "outputs": [],
   "source": [
    "high_similarity_threshold = 0.75\n",
    "moderate_similarity_threshold = 0.4\n",
    "\n",
    "\n",
    "conversations_with_topics.loc[conversations_with_topics['similarity_score'] >= 0.75,'similarity_bucket'] = 'high'\n",
    "conversations_with_topics.loc[(conversations_with_topics['similarity_score'] < 0.75) & ((conversations_with_topics['similarity_score'] >= 0.5)),'similarity_bucket'] = 'moderate'\n",
    "conversations_with_topics.loc[conversations_with_topics['similarity_score'] < 0.5,'similarity_bucket'] = 'warning'"
   ]
  },
  {
   "cell_type": "code",
   "execution_count": 11,
   "metadata": {},
   "outputs": [
    {
     "data": {
      "text/plain": [
       "<Axes: xlabel='similarity_score', ylabel='Count'>"
      ]
     },
     "execution_count": 11,
     "metadata": {},
     "output_type": "execute_result"
    },
    {
     "data": {
      "image/png": "[encoded data removed]",
      "text/plain": [
       "<Figure size 640x480 with 1 Axes>"
      ]
     },
     "metadata": {},
     "output_type": "display_data"
    }
   ],
   "source": [
    "import seaborn as sns\n",
    "\n",
    "sns.histplot(data=conversations_with_topics, x='similarity_score', hue='similarity_bucket', multiple='stack',palette='deep')"
   ]
  },
  {
   "cell_type": "markdown",
   "metadata": {},
   "source": [
    "The overall quality of the labelling seems to be good, as messages and tend to match their description. There might be the opportunity to improve the quality of the data by looking at cases where similarity scores are lower"
   ]
  },
  {
   "cell_type": "code",
   "execution_count": 12,
   "metadata": {},
   "outputs": [
    {
     "data": {
      "text/plain": [
       "<Axes: xlabel='topic_name'>"
      ]
     },
     "execution_count": 12,
     "metadata": {},
     "output_type": "execute_result"
    },
    {
     "data": {
      "image/png": "[encoded data removed]",
      "text/plain": [
       "<Figure size 640x480 with 1 Axes>"
      ]
     },
     "metadata": {},
     "output_type": "display_data"
    }
   ],
   "source": [
    "conversations_with_topics[conversations_with_topics['similarity_score']<0.5]['topic_name'].value_counts().plot(kind='bar')"
   ]
  },
  {
   "cell_type": "markdown",
   "metadata": {},
   "source": [
    "The majority of cases where the cosine similarity is lower (<0.5) is in the topic `other`, but it would be interesting to further analyse the other cases and try to understand whether there has been any errors made."
   ]
  },
  {
   "cell_type": "markdown",
   "metadata": {},
   "source": [
    "### Vectorization for Classification\n",
    "\n",
    "To build the best model possible given limited computational resources and data we use BERT embeddings to train the models"
   ]
  },
  {
   "cell_type": "code",
   "execution_count": 13,
   "metadata": {},
   "outputs": [],
   "source": [
    "conversations_with_topics['message_embedding'] = list(get_bert_embeddings_classification(conversations_with_topics['cleaned_message'].to_list()))"
   ]
  },
  {
   "cell_type": "code",
   "execution_count": 14,
   "metadata": {},
   "outputs": [],
   "source": [
    "embeddings = pd.DataFrame(conversations_with_topics['message_embedding'].tolist())\n",
    "data = pd.concat([embeddings, conversations_with_topics['topic_id']], axis=1)"
   ]
  },
  {
   "cell_type": "code",
   "execution_count": 15,
   "metadata": {},
   "outputs": [
    {
     "data": {
      "text/html": [
       "<div>\n",
       "<style scoped>\n",
       "    .dataframe tbody tr th:only-of-type {\n",
       "        vertical-align: middle;\n",
       "    }\n",
       "\n",
       "    .dataframe tbody tr th {\n",
       "        vertical-align: top;\n",
       "    }\n",
       "\n",
       "    .dataframe thead th {\n",
       "        text-align: right;\n",
       "    }\n",
       "</style>\n",
       "<table border=\"1\" class=\"dataframe\">\n",
       "  <thead>\n",
       "    <tr style=\"text-align: right;\">\n",
       "      <th></th>\n",
       "      <th>0</th>\n",
       "      <th>1</th>\n",
       "      <th>2</th>\n",
       "      <th>3</th>\n",
       "      <th>4</th>\n",
       "      <th>5</th>\n",
       "      <th>6</th>\n",
       "      <th>7</th>\n",
       "      <th>8</th>\n",
       "      <th>9</th>\n",
       "      <th>...</th>\n",
       "      <th>759</th>\n",
       "      <th>760</th>\n",
       "      <th>761</th>\n",
       "      <th>762</th>\n",
       "      <th>763</th>\n",
       "      <th>764</th>\n",
       "      <th>765</th>\n",
       "      <th>766</th>\n",
       "      <th>767</th>\n",
       "      <th>topic_id</th>\n",
       "    </tr>\n",
       "  </thead>\n",
       "  <tbody>\n",
       "    <tr>\n",
       "      <th>0</th>\n",
       "      <td>-0.407471</td>\n",
       "      <td>0.136019</td>\n",
       "      <td>-0.163733</td>\n",
       "      <td>0.109130</td>\n",
       "      <td>-0.270670</td>\n",
       "      <td>0.057474</td>\n",
       "      <td>0.337460</td>\n",
       "      <td>0.173241</td>\n",
       "      <td>-0.127512</td>\n",
       "      <td>-0.251214</td>\n",
       "      <td>...</td>\n",
       "      <td>-0.277561</td>\n",
       "      <td>0.269468</td>\n",
       "      <td>0.045618</td>\n",
       "      <td>0.075176</td>\n",
       "      <td>-0.130950</td>\n",
       "      <td>-0.161837</td>\n",
       "      <td>-0.136086</td>\n",
       "      <td>0.209851</td>\n",
       "      <td>0.379018</td>\n",
       "      <td>5</td>\n",
       "    </tr>\n",
       "    <tr>\n",
       "      <th>1</th>\n",
       "      <td>-0.158563</td>\n",
       "      <td>-0.117043</td>\n",
       "      <td>-0.094236</td>\n",
       "      <td>-0.058129</td>\n",
       "      <td>-0.097511</td>\n",
       "      <td>-0.135978</td>\n",
       "      <td>0.431179</td>\n",
       "      <td>0.227104</td>\n",
       "      <td>-0.285544</td>\n",
       "      <td>-0.471303</td>\n",
       "      <td>...</td>\n",
       "      <td>-0.390914</td>\n",
       "      <td>0.251987</td>\n",
       "      <td>0.102440</td>\n",
       "      <td>0.001805</td>\n",
       "      <td>0.138867</td>\n",
       "      <td>-0.317917</td>\n",
       "      <td>-0.343339</td>\n",
       "      <td>-0.133795</td>\n",
       "      <td>0.252174</td>\n",
       "      <td>1</td>\n",
       "    </tr>\n",
       "    <tr>\n",
       "      <th>2</th>\n",
       "      <td>-0.264371</td>\n",
       "      <td>-0.253675</td>\n",
       "      <td>-0.208250</td>\n",
       "      <td>-0.080020</td>\n",
       "      <td>0.491835</td>\n",
       "      <td>0.011435</td>\n",
       "      <td>0.175420</td>\n",
       "      <td>0.329587</td>\n",
       "      <td>-0.582018</td>\n",
       "      <td>-0.402097</td>\n",
       "      <td>...</td>\n",
       "      <td>-0.387785</td>\n",
       "      <td>-0.150377</td>\n",
       "      <td>0.073817</td>\n",
       "      <td>0.046312</td>\n",
       "      <td>-0.185542</td>\n",
       "      <td>-0.358764</td>\n",
       "      <td>-0.311874</td>\n",
       "      <td>-0.309249</td>\n",
       "      <td>0.405564</td>\n",
       "      <td>0</td>\n",
       "    </tr>\n",
       "    <tr>\n",
       "      <th>3</th>\n",
       "      <td>-0.234888</td>\n",
       "      <td>-0.104250</td>\n",
       "      <td>-0.055412</td>\n",
       "      <td>0.060247</td>\n",
       "      <td>-0.130268</td>\n",
       "      <td>-0.159874</td>\n",
       "      <td>0.186588</td>\n",
       "      <td>0.297619</td>\n",
       "      <td>-0.058392</td>\n",
       "      <td>-0.247030</td>\n",
       "      <td>...</td>\n",
       "      <td>-0.247500</td>\n",
       "      <td>0.103502</td>\n",
       "      <td>0.152162</td>\n",
       "      <td>0.045877</td>\n",
       "      <td>0.004402</td>\n",
       "      <td>-0.236439</td>\n",
       "      <td>-0.345633</td>\n",
       "      <td>0.017106</td>\n",
       "      <td>0.270244</td>\n",
       "      <td>5</td>\n",
       "    </tr>\n",
       "    <tr>\n",
       "      <th>4</th>\n",
       "      <td>-0.694774</td>\n",
       "      <td>0.117740</td>\n",
       "      <td>0.153905</td>\n",
       "      <td>0.028447</td>\n",
       "      <td>0.382660</td>\n",
       "      <td>-0.252072</td>\n",
       "      <td>0.544026</td>\n",
       "      <td>1.045083</td>\n",
       "      <td>-0.318810</td>\n",
       "      <td>-0.440082</td>\n",
       "      <td>...</td>\n",
       "      <td>-0.569864</td>\n",
       "      <td>0.119118</td>\n",
       "      <td>-0.066645</td>\n",
       "      <td>0.098262</td>\n",
       "      <td>0.006955</td>\n",
       "      <td>0.265900</td>\n",
       "      <td>-0.399226</td>\n",
       "      <td>-0.348734</td>\n",
       "      <td>0.887626</td>\n",
       "      <td>0</td>\n",
       "    </tr>\n",
       "  </tbody>\n",
       "</table>\n",
       "<p>5 rows × 769 columns</p>\n",
       "</div>"
      ],
      "text/plain": [
       "          0         1         2         3         4         5         6  \\\n",
       "0 -0.407471  0.136019 -0.163733  0.109130 -0.270670  0.057474  0.337460   \n",
       "1 -0.158563 -0.117043 -0.094236 -0.058129 -0.097511 -0.135978  0.431179   \n",
       "2 -0.264371 -0.253675 -0.208250 -0.080020  0.491835  0.011435  0.175420   \n",
       "3 -0.234888 -0.104250 -0.055412  0.060247 -0.130268 -0.159874  0.186588   \n",
       "4 -0.694774  0.117740  0.153905  0.028447  0.382660 -0.252072  0.544026   \n",
       "\n",
       "          7         8         9  ...       759       760       761       762  \\\n",
       "0  0.173241 -0.127512 -0.251214  ... -0.277561  0.269468  0.045618  0.075176   \n",
       "1  0.227104 -0.285544 -0.471303  ... -0.390914  0.251987  0.102440  0.001805   \n",
       "2  0.329587 -0.582018 -0.402097  ... -0.387785 -0.150377  0.073817  0.046312   \n",
       "3  0.297619 -0.058392 -0.247030  ... -0.247500  0.103502  0.152162  0.045877   \n",
       "4  1.045083 -0.318810 -0.440082  ... -0.569864  0.119118 -0.066645  0.098262   \n",
       "\n",
       "        763       764       765       766       767  topic_id  \n",
       "0 -0.130950 -0.161837 -0.136086  0.209851  0.379018         5  \n",
       "1  0.138867 -0.317917 -0.343339 -0.133795  0.252174         1  \n",
       "2 -0.185542 -0.358764 -0.311874 -0.309249  0.405564         0  \n",
       "3  0.004402 -0.236439 -0.345633  0.017106  0.270244         5  \n",
       "4  0.006955  0.265900 -0.399226 -0.348734  0.887626         0  \n",
       "\n",
       "[5 rows x 769 columns]"
      ]
     },
     "execution_count": 15,
     "metadata": {},
     "output_type": "execute_result"
    }
   ],
   "source": [
    "data.head()"
   ]
  },
  {
   "cell_type": "code",
   "execution_count": 89,
   "metadata": {},
   "outputs": [],
   "source": [
    "X = data.drop(columns='topic_id').values\n",
    "y = data['topic_id'].values\n",
    "# Train-test split\n",
    "X_train, X_test, y_train, y_test = train_test_split(X, y, test_size=0.2, random_state=12)"
   ]
  },
  {
   "cell_type": "markdown",
   "metadata": {},
   "source": [
    "### Machine Learning Models"
   ]
  },
  {
   "cell_type": "markdown",
   "metadata": {},
   "source": [
    "We iterate through some classic ML models and select the best performing one using cross-validation"
   ]
  },
  {
   "cell_type": "code",
   "execution_count": 93,
   "metadata": {},
   "outputs": [
    {
     "name": "stdout",
     "output_type": "stream",
     "text": [
      "Mean Accuracy: 0.5952\n",
      "Mean Precision: 0.9556853965012444\n",
      "Mean Recall: 0.5952\n",
      "Mean F1 Score: 0.7136591487471963\n",
      "Mean Log Loss: 0.7270107899172621\n"
     ]
    }
   ],
   "source": [
    "import numpy\n",
    "rf_model = RandomForestClassifier(n_estimators=100, random_state=12)\n",
    "mean_accuracy_rf = kfold_cross_validation(X, y, rf_model, n_splits=5,threshold=0.5)"
   ]
  },
  {
   "cell_type": "code",
   "execution_count": 95,
   "metadata": {},
   "outputs": [
    {
     "name": "stdout",
     "output_type": "stream",
     "text": [
      "Mean Accuracy: 0.8756\n",
      "Mean Precision: 0.9185745099887423\n",
      "Mean Recall: 0.8756\n",
      "Mean F1 Score: 0.8948903858246016\n",
      "Mean Log Loss: 0.35996139293213075\n"
     ]
    }
   ],
   "source": [
    "xgb_model = XGBClassifier(eval_metric='mlogloss')\n",
    "mean_accuracy_xgb = kfold_cross_validation(X, y, xgb_model, n_splits=5,threshold=0.5)"
   ]
  },
  {
   "cell_type": "code",
   "execution_count": 94,
   "metadata": {},
   "outputs": [
    {
     "name": "stdout",
     "output_type": "stream",
     "text": [
      "Mean Accuracy: 0.8876\n",
      "Mean Precision: 0.9349993802566884\n",
      "Mean Recall: 0.8876\n",
      "Mean F1 Score: 0.909472775534433\n",
      "Mean Log Loss: 0.28790637133259517\n"
     ]
    }
   ],
   "source": [
    "svm_model = SVC(probability=True)\n",
    "mean_accuracy_svm = kfold_cross_validation(X, y, svm_model, n_splits=5,threshold=0.5)"
   ]
  },
  {
   "cell_type": "markdown",
   "metadata": {},
   "source": [
    "### Conclusion\n",
    "\n",
    "Looking at the results above the best performing model is the SVM.\n",
    "\n",
    "- We have 88.7% accuracy indicating that the SVM model predicts 88.7% of topics correctly\n",
    "- The model is making highly accurate positive predictions with a precision of ~93.5%. If we estimate the cost of FT and FN we could optimise the threshold\n",
    "- The high F1 score confirms that the model is well balanced\n",
    "- Log loss is telling us that when the model is predicting is doing so with high confidence given high probabilities"
   ]
  },
  {
   "cell_type": "markdown",
   "metadata": {},
   "source": [
    "### Next steps (If we had more time and/or computational power)\n",
    "\n",
    "- As mentioned above, would be interesting to dig deeper in the data and understand where cosine similarities are lower in order to improve the data quality\n",
    "- Adding other types of data, as we used an SVM model, we could take advantage of this to add other variables that could help improve the performance of the model (Customer data, time, etc.)\n",
    "- Estimating the costs of errors could help optimise the threshold to be best suited for this case study\n",
    "- With more data and computational power we could use transfer learning and tune a larger model"
   ]
  },
  {
   "cell_type": "markdown",
   "metadata": {},
   "source": []
  }
 ],
 "metadata": {
  "kernelspec": {
   "display_name": "Python 3",
   "language": "python",
   "name": "python3"
  },
  "language_info": {
   "codemirror_mode": {
    "name": "ipython",
    "version": 3
   },
   "file_extension": ".py",
   "mimetype": "text/x-python",
   "name": "python",
   "nbconvert_exporter": "python",
   "pygments_lexer": "ipython3",
   "version": "3.9.1"
  }
 },
 "nbformat": 4,
 "nbformat_minor": 2
}
